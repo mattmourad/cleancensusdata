{
 "cells": [
  {
   "cell_type": "markdown",
   "metadata": {},
   "source": [
    "# Data Cleaning Project : U.S. Census Data"
   ]
  },
  {
   "cell_type": "markdown",
   "metadata": {},
   "source": [
    "## Introduction\n",
    "\n",
    "In this project, I will be creating a masterfile from smaller datasets, and then cleaning the masterfile. I will then use the cleaned masterfile to create a visualization."
   ]
  },
  {
   "cell_type": "markdown",
   "metadata": {},
   "source": [
    "## Inspect the Data & Creating the Masterfile"
   ]
  },
  {
   "cell_type": "markdown",
   "metadata": {},
   "source": [
    "Below, I have imported each library I intend to use on this project, and import one of the small datasets to get a feel for the data. Fortunatley, each of the 10 data sets has the same number of variables, and the same format for each variable."
   ]
  },
  {
   "cell_type": "code",
   "execution_count": 19,
   "metadata": {},
   "outputs": [
    {
     "data": {
      "text/html": [
       "<div>\n",
       "<style scoped>\n",
       "    .dataframe tbody tr th:only-of-type {\n",
       "        vertical-align: middle;\n",
       "    }\n",
       "\n",
       "    .dataframe tbody tr th {\n",
       "        vertical-align: top;\n",
       "    }\n",
       "\n",
       "    .dataframe thead th {\n",
       "        text-align: right;\n",
       "    }\n",
       "</style>\n",
       "<table border=\"1\" class=\"dataframe\">\n",
       "  <thead>\n",
       "    <tr style=\"text-align: right;\">\n",
       "      <th></th>\n",
       "      <th>Unnamed: 0</th>\n",
       "      <th>State</th>\n",
       "      <th>TotalPop</th>\n",
       "      <th>Hispanic</th>\n",
       "      <th>White</th>\n",
       "      <th>Black</th>\n",
       "      <th>Native</th>\n",
       "      <th>Asian</th>\n",
       "      <th>Pacific</th>\n",
       "      <th>Income</th>\n",
       "      <th>GenderPop</th>\n",
       "    </tr>\n",
       "  </thead>\n",
       "  <tbody>\n",
       "    <tr>\n",
       "      <th>0</th>\n",
       "      <td>0</td>\n",
       "      <td>Alabama</td>\n",
       "      <td>4830620</td>\n",
       "      <td>3.75%</td>\n",
       "      <td>61.88%</td>\n",
       "      <td>31.25%</td>\n",
       "      <td>0.45%</td>\n",
       "      <td>1.05%</td>\n",
       "      <td>0.03%</td>\n",
       "      <td>$43,296.36</td>\n",
       "      <td>2341093M_2489527F</td>\n",
       "    </tr>\n",
       "    <tr>\n",
       "      <th>1</th>\n",
       "      <td>1</td>\n",
       "      <td>Alaska</td>\n",
       "      <td>733375</td>\n",
       "      <td>5.91%</td>\n",
       "      <td>60.91%</td>\n",
       "      <td>2.85%</td>\n",
       "      <td>16.39%</td>\n",
       "      <td>5.45%</td>\n",
       "      <td>1.06%</td>\n",
       "      <td>$70,354.74</td>\n",
       "      <td>384160M_349215F</td>\n",
       "    </tr>\n",
       "    <tr>\n",
       "      <th>2</th>\n",
       "      <td>2</td>\n",
       "      <td>Arizona</td>\n",
       "      <td>6641928</td>\n",
       "      <td>29.57%</td>\n",
       "      <td>57.12%</td>\n",
       "      <td>3.85%</td>\n",
       "      <td>4.36%</td>\n",
       "      <td>2.88%</td>\n",
       "      <td>0.17%</td>\n",
       "      <td>$54,207.82</td>\n",
       "      <td>3299088M_3342840F</td>\n",
       "    </tr>\n",
       "    <tr>\n",
       "      <th>3</th>\n",
       "      <td>3</td>\n",
       "      <td>Arkansas</td>\n",
       "      <td>2958208</td>\n",
       "      <td>6.22%</td>\n",
       "      <td>71.14%</td>\n",
       "      <td>18.97%</td>\n",
       "      <td>0.52%</td>\n",
       "      <td>1.14%</td>\n",
       "      <td>0.15%</td>\n",
       "      <td>$41,935.63</td>\n",
       "      <td>1451913M_1506295F</td>\n",
       "    </tr>\n",
       "    <tr>\n",
       "      <th>4</th>\n",
       "      <td>4</td>\n",
       "      <td>California</td>\n",
       "      <td>38421464</td>\n",
       "      <td>37.29%</td>\n",
       "      <td>40.22%</td>\n",
       "      <td>5.68%</td>\n",
       "      <td>0.41%</td>\n",
       "      <td>13.05%</td>\n",
       "      <td>0.35%</td>\n",
       "      <td>$67,264.78</td>\n",
       "      <td>19087135M_19334329F</td>\n",
       "    </tr>\n",
       "  </tbody>\n",
       "</table>\n",
       "</div>"
      ],
      "text/plain": [
       "   Unnamed: 0       State  TotalPop Hispanic   White   Black  Native   Asian  \\\n",
       "0           0     Alabama   4830620    3.75%  61.88%  31.25%   0.45%   1.05%   \n",
       "1           1      Alaska    733375    5.91%  60.91%   2.85%  16.39%   5.45%   \n",
       "2           2     Arizona   6641928   29.57%  57.12%   3.85%   4.36%   2.88%   \n",
       "3           3    Arkansas   2958208    6.22%  71.14%  18.97%   0.52%   1.14%   \n",
       "4           4  California  38421464   37.29%  40.22%   5.68%   0.41%  13.05%   \n",
       "\n",
       "  Pacific       Income            GenderPop  \n",
       "0   0.03%  $43,296.36     2341093M_2489527F  \n",
       "1   1.06%  $70,354.74       384160M_349215F  \n",
       "2   0.17%  $54,207.82     3299088M_3342840F  \n",
       "3   0.15%  $41,935.63     1451913M_1506295F  \n",
       "4   0.35%  $67,264.78   19087135M_19334329F  "
      ]
     },
     "execution_count": 19,
     "metadata": {},
     "output_type": "execute_result"
    }
   ],
   "source": [
    "import pandas as pd\n",
    "import numpy as np\n",
    "import matplotlib.pyplot as plt\n",
    "import glob\n",
    "\n",
    "states_0 = pd.read_csv('states0.csv')\n",
    "states_0.head()"
   ]
  },
  {
   "cell_type": "markdown",
   "metadata": {},
   "source": [
    "Since it's just a question of getting all the data into one file at this time, I used the python library `glob` to create a list of each file name for the smaller dataset. I then looped through each file name in our 'globed' list and imported them to a dataframe to create a masterfile called' `us_census`.\n",
    "\n",
    "After that, I examined each column name and their corresponding datatype to understand what types need to be changed. You can see that `Income` is an object datatype instead of an integer. This is due to there being a '$' in front of each number."
   ]
  },
  {
   "cell_type": "code",
   "execution_count": 20,
   "metadata": {},
   "outputs": [],
   "source": [
    "files = glob.glob(\"states*.csv\")\n",
    "df_list = []\n",
    "for filename in files:\n",
    "  us_census = pd.read_csv(filename)\n",
    "  df_list.append(us_census)"
   ]
  },
  {
   "cell_type": "code",
   "execution_count": 21,
   "metadata": {},
   "outputs": [
    {
     "name": "stdout",
     "output_type": "stream",
     "text": [
      "Index(['Unnamed: 0', 'State', 'TotalPop', 'Hispanic', 'White', 'Black',\n",
      "       'Native', 'Asian', 'Pacific', 'Income', 'GenderPop'],\n",
      "      dtype='object')\n",
      "Unnamed: 0     int64\n",
      "State         object\n",
      "TotalPop       int64\n",
      "Hispanic      object\n",
      "White         object\n",
      "Black         object\n",
      "Native        object\n",
      "Asian         object\n",
      "Pacific       object\n",
      "Income        object\n",
      "GenderPop     object\n",
      "dtype: object\n",
      "   Unnamed: 0       State  TotalPop Hispanic   White   Black  Native   Asian  \\\n",
      "0           0     Alabama   4830620    3.75%  61.88%  31.25%   0.45%   1.05%   \n",
      "1           1      Alaska    733375    5.91%  60.91%   2.85%  16.39%   5.45%   \n",
      "2           2     Arizona   6641928   29.57%  57.12%   3.85%   4.36%   2.88%   \n",
      "3           3    Arkansas   2958208    6.22%  71.14%  18.97%   0.52%   1.14%   \n",
      "4           4  California  38421464   37.29%  40.22%   5.68%   0.41%  13.05%   \n",
      "\n",
      "  Pacific       Income            GenderPop  \n",
      "0   0.03%  $43,296.36     2341093M_2489527F  \n",
      "1   1.06%  $70,354.74       384160M_349215F  \n",
      "2   0.17%  $54,207.82     3299088M_3342840F  \n",
      "3   0.15%  $41,935.63     1451913M_1506295F  \n",
      "4   0.35%  $67,264.78   19087135M_19334329F  \n"
     ]
    }
   ],
   "source": [
    "print(us_census.columns)\n",
    "print(us_census.dtypes)\n",
    "print(us_census.head())"
   ]
  },
  {
   "cell_type": "markdown",
   "metadata": {},
   "source": [
    "## Managing Datatypes and Format"
   ]
  },
  {
   "cell_type": "markdown",
   "metadata": {},
   "source": [
    "To make `Income` more manageable, I removed the dollar sign from the column. Below, I used a regular expression to find a pattern of the dollar sign in the column and removed it from each cell. I then reassigned the newly formatted column back to the dataframe. This will allow me to plot `Income` correctly in the future."
   ]
  },
  {
   "cell_type": "code",
   "execution_count": 22,
   "metadata": {},
   "outputs": [],
   "source": [
    "us_census.Income = us_census['Income'].replace('[\\$,]', '', regex=True)"
   ]
  },
  {
   "cell_type": "markdown",
   "metadata": {},
   "source": [
    "The variable, `GenderPop`, has both the population number of men and women and a letter representing each. I split this column to make the numbers more manageable, and to give men and women their own column. This is better for all around format and utility.\n",
    "\n",
    "To do this, I first created two empty list that will receive each number and letter respetively. I then looped through a range from 0 to the length of the `GenderPop` and converted each cell into a string datatype. I did this because I wanted to use a sting splitting method and`GenderPop` was of type object. I then split the sting on `_` for each index. This allowed me to get the population numbers for men and women by themselves to append into their own columns. I did this by adding each population number to their respective empty list I made earlier, then set those equal to their columns.\n",
    "   "
   ]
  },
  {
   "cell_type": "code",
   "execution_count": 23,
   "metadata": {},
   "outputs": [
    {
     "name": "stdout",
     "output_type": "stream",
     "text": [
      "0      2341093M_2489527F\n",
      "1        384160M_349215F\n",
      "2      3299088M_3342840F\n",
      "3      1451913M_1506295F\n",
      "4    19087135M_19334329F\n",
      "Name: GenderPop, dtype: object\n",
      "   Unnamed: 0       State  TotalPop Hispanic   White   Black  Native   Asian  \\\n",
      "0           0     Alabama   4830620    3.75%  61.88%  31.25%   0.45%   1.05%   \n",
      "1           1      Alaska    733375    5.91%  60.91%   2.85%  16.39%   5.45%   \n",
      "2           2     Arizona   6641928   29.57%  57.12%   3.85%   4.36%   2.88%   \n",
      "3           3    Arkansas   2958208    6.22%  71.14%  18.97%   0.52%   1.14%   \n",
      "4           4  California  38421464   37.29%  40.22%   5.68%   0.41%  13.05%   \n",
      "\n",
      "  Pacific     Income            GenderPop        Men      Women  \n",
      "0   0.03%  43296.36     2341093M_2489527F   2341093M   2489527F  \n",
      "1   1.06%  70354.74       384160M_349215F    384160M    349215F  \n",
      "2   0.17%  54207.82     3299088M_3342840F   3299088M   3342840F  \n",
      "3   0.15%  41935.63     1451913M_1506295F   1451913M   1506295F  \n",
      "4   0.35%  67264.78   19087135M_19334329F  19087135M  19334329F  \n"
     ]
    }
   ],
   "source": [
    "print(us_census['GenderPop'].head())\n",
    "\n",
    "Men = []\n",
    "Women = []\n",
    "for index in range(0,len(us_census[\"GenderPop\"])):\n",
    "    string = str(us_census['GenderPop'].iat[index])\n",
    "    replace = string.split('_')\n",
    "    Men.append(replace[0])\n",
    "    Women.append(replace[1])\n",
    "\n",
    "us_census['Men'] = Men\n",
    "us_census['Women'] = Women\n",
    "\n",
    "print(us_census.head())"
   ]
  },
  {
   "cell_type": "markdown",
   "metadata": {},
   "source": [
    "From there, I needed to drop the `M` and `F` so I could just have the population numbers and convert them to numerical datatypes. For each variable, I looped through each cell individually and made them a string datatype. I then dropped the respective letter, `M` or `F`, and converted each column back to a numeric datatype. When I print the first five columns, you can see the respective columns. From here, I chose to keep `GenderPop` in case I need to use it in the future."
   ]
  },
  {
   "cell_type": "code",
   "execution_count": 24,
   "metadata": {},
   "outputs": [
    {
     "data": {
      "text/html": [
       "<div>\n",
       "<style scoped>\n",
       "    .dataframe tbody tr th:only-of-type {\n",
       "        vertical-align: middle;\n",
       "    }\n",
       "\n",
       "    .dataframe tbody tr th {\n",
       "        vertical-align: top;\n",
       "    }\n",
       "\n",
       "    .dataframe thead th {\n",
       "        text-align: right;\n",
       "    }\n",
       "</style>\n",
       "<table border=\"1\" class=\"dataframe\">\n",
       "  <thead>\n",
       "    <tr style=\"text-align: right;\">\n",
       "      <th></th>\n",
       "      <th>Unnamed: 0</th>\n",
       "      <th>State</th>\n",
       "      <th>TotalPop</th>\n",
       "      <th>Hispanic</th>\n",
       "      <th>White</th>\n",
       "      <th>Black</th>\n",
       "      <th>Native</th>\n",
       "      <th>Asian</th>\n",
       "      <th>Pacific</th>\n",
       "      <th>Income</th>\n",
       "      <th>GenderPop</th>\n",
       "      <th>Men</th>\n",
       "      <th>Women</th>\n",
       "    </tr>\n",
       "  </thead>\n",
       "  <tbody>\n",
       "    <tr>\n",
       "      <th>0</th>\n",
       "      <td>0</td>\n",
       "      <td>Alabama</td>\n",
       "      <td>4830620</td>\n",
       "      <td>3.75%</td>\n",
       "      <td>61.88%</td>\n",
       "      <td>31.25%</td>\n",
       "      <td>0.45%</td>\n",
       "      <td>1.05%</td>\n",
       "      <td>0.03%</td>\n",
       "      <td>43296.36</td>\n",
       "      <td>2341093M_2489527F</td>\n",
       "      <td>2341093</td>\n",
       "      <td>2489527</td>\n",
       "    </tr>\n",
       "    <tr>\n",
       "      <th>1</th>\n",
       "      <td>1</td>\n",
       "      <td>Alaska</td>\n",
       "      <td>733375</td>\n",
       "      <td>5.91%</td>\n",
       "      <td>60.91%</td>\n",
       "      <td>2.85%</td>\n",
       "      <td>16.39%</td>\n",
       "      <td>5.45%</td>\n",
       "      <td>1.06%</td>\n",
       "      <td>70354.74</td>\n",
       "      <td>384160M_349215F</td>\n",
       "      <td>384160</td>\n",
       "      <td>349215</td>\n",
       "    </tr>\n",
       "    <tr>\n",
       "      <th>2</th>\n",
       "      <td>2</td>\n",
       "      <td>Arizona</td>\n",
       "      <td>6641928</td>\n",
       "      <td>29.57%</td>\n",
       "      <td>57.12%</td>\n",
       "      <td>3.85%</td>\n",
       "      <td>4.36%</td>\n",
       "      <td>2.88%</td>\n",
       "      <td>0.17%</td>\n",
       "      <td>54207.82</td>\n",
       "      <td>3299088M_3342840F</td>\n",
       "      <td>3299088</td>\n",
       "      <td>3342840</td>\n",
       "    </tr>\n",
       "    <tr>\n",
       "      <th>3</th>\n",
       "      <td>3</td>\n",
       "      <td>Arkansas</td>\n",
       "      <td>2958208</td>\n",
       "      <td>6.22%</td>\n",
       "      <td>71.14%</td>\n",
       "      <td>18.97%</td>\n",
       "      <td>0.52%</td>\n",
       "      <td>1.14%</td>\n",
       "      <td>0.15%</td>\n",
       "      <td>41935.63</td>\n",
       "      <td>1451913M_1506295F</td>\n",
       "      <td>1451913</td>\n",
       "      <td>1506295</td>\n",
       "    </tr>\n",
       "    <tr>\n",
       "      <th>4</th>\n",
       "      <td>4</td>\n",
       "      <td>California</td>\n",
       "      <td>38421464</td>\n",
       "      <td>37.29%</td>\n",
       "      <td>40.22%</td>\n",
       "      <td>5.68%</td>\n",
       "      <td>0.41%</td>\n",
       "      <td>13.05%</td>\n",
       "      <td>0.35%</td>\n",
       "      <td>67264.78</td>\n",
       "      <td>19087135M_19334329F</td>\n",
       "      <td>19087135</td>\n",
       "      <td>19334329</td>\n",
       "    </tr>\n",
       "  </tbody>\n",
       "</table>\n",
       "</div>"
      ],
      "text/plain": [
       "   Unnamed: 0       State  TotalPop Hispanic   White   Black  Native   Asian  \\\n",
       "0           0     Alabama   4830620    3.75%  61.88%  31.25%   0.45%   1.05%   \n",
       "1           1      Alaska    733375    5.91%  60.91%   2.85%  16.39%   5.45%   \n",
       "2           2     Arizona   6641928   29.57%  57.12%   3.85%   4.36%   2.88%   \n",
       "3           3    Arkansas   2958208    6.22%  71.14%  18.97%   0.52%   1.14%   \n",
       "4           4  California  38421464   37.29%  40.22%   5.68%   0.41%  13.05%   \n",
       "\n",
       "  Pacific     Income            GenderPop       Men     Women  \n",
       "0   0.03%  43296.36     2341093M_2489527F   2341093   2489527  \n",
       "1   1.06%  70354.74       384160M_349215F    384160    349215  \n",
       "2   0.17%  54207.82     3299088M_3342840F   3299088   3342840  \n",
       "3   0.15%  41935.63     1451913M_1506295F   1451913   1506295  \n",
       "4   0.35%  67264.78   19087135M_19334329F  19087135  19334329  "
      ]
     },
     "execution_count": 24,
     "metadata": {},
     "output_type": "execute_result"
    }
   ],
   "source": [
    "for index in range(0,len(us_census[\"Men\"])):\n",
    "    string = str(us_census['Men'].iat[index])\n",
    "    replace = string.replace('M', '')\n",
    "    us_census['Men'].iat[index] = replace\n",
    "    \n",
    "for index in range(0,len(us_census[\"Women\"])):\n",
    "    string = str(us_census['Women'].iat[index])\n",
    "    replace = string.replace('F', '')\n",
    "    us_census['Women'].iat[index] = replace\n",
    "    \n",
    "us_census['Men'] = pd.to_numeric(us_census['Men'])\n",
    "us_census['Women'] = pd.to_numeric(us_census['Women'])\n",
    "\n",
    "us_census.head()"
   ]
  },
  {
   "cell_type": "markdown",
   "metadata": {},
   "source": [
    "Below, you can see a scatter plot using the variables I just cleaned, `Income` and `Women`."
   ]
  },
  {
   "cell_type": "code",
   "execution_count": 25,
   "metadata": {},
   "outputs": [
    {
     "data": {
      "image/png": "[encoded data removed]",
      "text/plain": [
       "<Figure size 640x480 with 1 Axes>"
      ]
     },
     "metadata": {},
     "output_type": "display_data"
    }
   ],
   "source": [
    "plt.scatter(us_census['Women'], us_census['Income'])\n",
    "plt.title(\"Scatter Plot of Income vs. Number of Women per State\")\n",
    "plt.xlabel(\"Population of Women per State\")\n",
    "plt.ylabel(\"Income (in US Dollars)\")\n",
    "plt.show()"
   ]
  }
 ],
 "metadata": {
  "kernelspec": {
   "display_name": "Python 3 (ipykernel)",
   "language": "python",
   "name": "python3"
  },
  "language_info": {
   "codemirror_mode": {
    "name": "ipython",
    "version": 3
   },
   "file_extension": ".py",
   "mimetype": "text/x-python",
   "name": "python",
   "nbconvert_exporter": "python",
   "pygments_lexer": "ipython3",
   "version": "3.10.9"
  }
 },
 "nbformat": 4,
 "nbformat_minor": 2
}
